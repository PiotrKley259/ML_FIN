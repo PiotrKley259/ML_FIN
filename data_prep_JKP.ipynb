{
 "cells": [
  {
   "cell_type": "code",
   "execution_count": 1,
   "id": "3f502868",
   "metadata": {},
   "outputs": [],
   "source": [
    "import os\n",
    "import pandas as pd\n",
    "import matplotlib.pyplot as plt\n",
    "import math\n",
    "import numpy as np\n",
    "from sklearn.impute import KNNImputer\n",
    "from sklearn.preprocessing import StandardScaler"
   ]
  },
  {
   "cell_type": "code",
   "execution_count": 2,
   "id": "7629b50e",
   "metadata": {},
   "outputs": [],
   "source": [
    "folder = os.path.expanduser('~/Desktop/Machine Learning/data_ML_Project')\n",
    "file_path = os.path.join(folder, 'JKP.csv')  # No extension\n",
    "\n",
    "if os.path.exists(file_path):\n",
    "    data = pd.read_csv(file_path)\n",
    "else:\n",
    "    print(\"File still not found!\")"
   ]
  },
  {
   "cell_type": "code",
   "execution_count": 5,
   "id": "182923b8",
   "metadata": {},
   "outputs": [
    {
     "data": {
      "text/html": [
       "<div>\n",
       "<style scoped>\n",
       "    .dataframe tbody tr th:only-of-type {\n",
       "        vertical-align: middle;\n",
       "    }\n",
       "\n",
       "    .dataframe tbody tr th {\n",
       "        vertical-align: top;\n",
       "    }\n",
       "\n",
       "    .dataframe thead th {\n",
       "        text-align: right;\n",
       "    }\n",
       "</style>\n",
       "<table border=\"1\" class=\"dataframe\">\n",
       "  <thead>\n",
       "    <tr style=\"text-align: right;\">\n",
       "      <th></th>\n",
       "      <th>location</th>\n",
       "      <th>name</th>\n",
       "      <th>freq</th>\n",
       "      <th>weighting</th>\n",
       "      <th>direction</th>\n",
       "      <th>n_stocks</th>\n",
       "      <th>n_stocks_min</th>\n",
       "      <th>date</th>\n",
       "      <th>ret</th>\n",
       "    </tr>\n",
       "  </thead>\n",
       "  <tbody>\n",
       "    <tr>\n",
       "      <th>0</th>\n",
       "      <td>usa</td>\n",
       "      <td>age</td>\n",
       "      <td>monthly</td>\n",
       "      <td>vw_cap</td>\n",
       "      <td>-1</td>\n",
       "      <td>502</td>\n",
       "      <td>8</td>\n",
       "      <td>1926-03-31</td>\n",
       "      <td>-0.086738</td>\n",
       "    </tr>\n",
       "    <tr>\n",
       "      <th>1</th>\n",
       "      <td>usa</td>\n",
       "      <td>age</td>\n",
       "      <td>monthly</td>\n",
       "      <td>vw_cap</td>\n",
       "      <td>-1</td>\n",
       "      <td>505</td>\n",
       "      <td>12</td>\n",
       "      <td>1926-04-30</td>\n",
       "      <td>-0.000572</td>\n",
       "    </tr>\n",
       "    <tr>\n",
       "      <th>2</th>\n",
       "      <td>usa</td>\n",
       "      <td>age</td>\n",
       "      <td>monthly</td>\n",
       "      <td>vw_cap</td>\n",
       "      <td>-1</td>\n",
       "      <td>510</td>\n",
       "      <td>17</td>\n",
       "      <td>1926-05-31</td>\n",
       "      <td>-0.006332</td>\n",
       "    </tr>\n",
       "    <tr>\n",
       "      <th>3</th>\n",
       "      <td>usa</td>\n",
       "      <td>age</td>\n",
       "      <td>monthly</td>\n",
       "      <td>vw_cap</td>\n",
       "      <td>-1</td>\n",
       "      <td>512</td>\n",
       "      <td>21</td>\n",
       "      <td>1926-06-30</td>\n",
       "      <td>-0.003012</td>\n",
       "    </tr>\n",
       "    <tr>\n",
       "      <th>4</th>\n",
       "      <td>usa</td>\n",
       "      <td>age</td>\n",
       "      <td>monthly</td>\n",
       "      <td>vw_cap</td>\n",
       "      <td>-1</td>\n",
       "      <td>503</td>\n",
       "      <td>23</td>\n",
       "      <td>1926-07-31</td>\n",
       "      <td>0.003211</td>\n",
       "    </tr>\n",
       "  </tbody>\n",
       "</table>\n",
       "</div>"
      ],
      "text/plain": [
       "  location name     freq weighting  direction  n_stocks  n_stocks_min  \\\n",
       "0      usa  age  monthly    vw_cap         -1       502             8   \n",
       "1      usa  age  monthly    vw_cap         -1       505            12   \n",
       "2      usa  age  monthly    vw_cap         -1       510            17   \n",
       "3      usa  age  monthly    vw_cap         -1       512            21   \n",
       "4      usa  age  monthly    vw_cap         -1       503            23   \n",
       "\n",
       "         date       ret  \n",
       "0  1926-03-31 -0.086738  \n",
       "1  1926-04-30 -0.000572  \n",
       "2  1926-05-31 -0.006332  \n",
       "3  1926-06-30 -0.003012  \n",
       "4  1926-07-31  0.003211  "
      ]
     },
     "execution_count": 5,
     "metadata": {},
     "output_type": "execute_result"
    }
   ],
   "source": [
    "data.head()"
   ]
  },
  {
   "cell_type": "code",
   "execution_count": 6,
   "id": "87a504f9",
   "metadata": {},
   "outputs": [
    {
     "name": "stdout",
     "output_type": "stream",
     "text": [
      "String columns: ['location', 'name', 'freq', 'weighting', 'date']\n"
     ]
    }
   ],
   "source": [
    "# Find columns with string (object or string) dtype\n",
    "print(\"String columns:\", data.select_dtypes(include=[\"object\", \"string\"]).columns.tolist())"
   ]
  },
  {
   "cell_type": "code",
   "execution_count": 7,
   "id": "5c81423a",
   "metadata": {},
   "outputs": [],
   "source": [
    "# List of columns to drop\n",
    "columns_to_drop = [ \n",
    "\"location\", \"freq\",\"weighting\",\n",
    "]\n",
    "\n",
    "data.drop(columns=columns_to_drop, inplace=True)"
   ]
  },
  {
   "cell_type": "code",
   "execution_count": 8,
   "id": "19efde53",
   "metadata": {},
   "outputs": [
    {
     "name": "stdout",
     "output_type": "stream",
     "text": [
      "Columns where the majority of values were converted to NaN: []\n"
     ]
    }
   ],
   "source": [
    "# Identify columns where more than 70% of values are NaN\n",
    "nan_majority_columns = [column for column in data.columns if data[column].isna().mean() > 0.7]\n",
    "\n",
    "print(\"Columns where the majority of values were converted to NaN:\", nan_majority_columns)\n",
    "\n",
    "data.drop(columns=nan_majority_columns, inplace=True)"
   ]
  },
  {
   "cell_type": "code",
   "execution_count": 9,
   "id": "0d38b9c9",
   "metadata": {},
   "outputs": [],
   "source": [
    "data.to_csv(\"JKP_filtered.csv\", index=False)\n"
   ]
  }
 ],
 "metadata": {
  "kernelspec": {
   "display_name": "Python 3",
   "language": "python",
   "name": "python3"
  },
  "language_info": {
   "codemirror_mode": {
    "name": "ipython",
    "version": 3
   },
   "file_extension": ".py",
   "mimetype": "text/x-python",
   "name": "python",
   "nbconvert_exporter": "python",
   "pygments_lexer": "ipython3",
   "version": "3.13.2"
  }
 },
 "nbformat": 4,
 "nbformat_minor": 5
}
